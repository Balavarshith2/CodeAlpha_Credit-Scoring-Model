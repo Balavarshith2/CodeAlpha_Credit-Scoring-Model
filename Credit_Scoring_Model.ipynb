{
  "nbformat": 4,
  "nbformat_minor": 0,
  "metadata": {
    "colab": {
      "provenance": []
    },
    "kernelspec": {
      "name": "python3",
      "display_name": "Python 3"
    },
    "language_info": {
      "name": "python"
    }
  },
  "cells": [
    {
      "cell_type": "code",
      "source": [
        "import numpy as np\n",
        "import pandas as pd\n",
        "import matplotlib.pyplot as plt\n",
        "import seaborn as sns\n",
        "import joblib\n",
        "from pathlib import Path"
      ],
      "metadata": {
        "id": "qopZsVb67sUH"
      },
      "execution_count": 69,
      "outputs": []
    },
    {
      "cell_type": "code",
      "source": [
        "from sklearn.model_selection import train_test_split, StratifiedKFold, cross_val_score, GridSearchCV\n",
        "from sklearn.preprocessing import StandardScaler, OneHotEncoder\n",
        "from sklearn.compose import ColumnTransformer\n",
        "from sklearn.pipeline import Pipeline\n",
        "from sklearn.metrics import (\n",
        "    accuracy_score, precision_score, recall_score, f1_score, roc_auc_score,\n",
        "    confusion_matrix, roc_curve, precision_recall_curve, classification_report\n",
        ")\n",
        "from sklearn.metrics import ConfusionMatrixDisplay, RocCurveDisplay, PrecisionRecallDisplay\n",
        "from sklearn.linear_model import LogisticRegression\n",
        "from sklearn.ensemble import RandomForestClassifier\n",
        "from sklearn.svm import SVC"
      ],
      "metadata": {
        "id": "cSkX7FTH7zxt"
      },
      "execution_count": 70,
      "outputs": []
    },
    {
      "cell_type": "code",
      "source": [
        "try:\n",
        "    from xgboost import XGBClassifier\n",
        "    has_xgb = True\n",
        "except Exception:\n",
        "    has_xgb = False\n",
        "import warnings\n",
        "warnings.filterwarnings(\"ignore\")\n",
        "RANDOM_STATE = 42\n",
        "np.random.seed(RANDOM_STATE)\n",
        "print(\"XGBoost available:\", has_xgb)\n",
        "print(\"Random State set to:\", RANDOM_STATE)"
      ],
      "metadata": {
        "colab": {
          "base_uri": "https://localhost:8080/"
        },
        "id": "Za_SqXUu73Lf",
        "outputId": "378850cf-1ee4-43cc-e474-57fc8d0787a7"
      },
      "execution_count": 71,
      "outputs": [
        {
          "output_type": "stream",
          "name": "stdout",
          "text": [
            "XGBoost available: True\n",
            "Random State set to: 42\n"
          ]
        }
      ]
    },
    {
      "cell_type": "code",
      "source": [
        "def generate_synthetic_credit(n_samples=5000, random_state=RANDOM_STATE):\n",
        "    rng = np.random.RandomState(random_state)\n",
        "    age = rng.randint(18, 75, n_samples)\n",
        "    income = np.round(rng.normal(45000, 20000, n_samples)).clip(5000, 250000)\n",
        "    monthly_expenses = (income * rng.uniform(0.1, 0.6, n_samples)).astype(int)\n",
        "    debt = np.round(rng.normal(6000, 8000, n_samples)).clip(0, 150000)\n",
        "    num_open_loans = rng.poisson(1.2, n_samples).clip(0, 10)\n",
        "    credit_history_years = np.round(rng.exponential(scale=6, size=n_samples)).astype(int).clip(0, 50)\n",
        "    employment_status = rng.choice(\n",
        "        [\"employed\", \"self-employed\", \"unemployed\"],\n",
        "        size=n_samples, p=[0.75, 0.15, 0.10]\n",
        "    )\n",
        "    home_owner = rng.choice(\n",
        "        [\"owned\", \"mortgage\", \"rent\"],\n",
        "        size=n_samples, p=[0.4, 0.35, 0.25]\n",
        "    )\n",
        "    prev_defaults = rng.binomial(1, 0.08, n_samples)\n",
        "    payment_history_score = (\n",
        "        80\n",
        "        + (income/10000)*2\n",
        "        - prev_defaults*30\n",
        "        - (debt/10000)*1.5\n",
        "        + rng.normal(0, 10, n_samples)\n",
        "    )\n",
        "    payment_history_score = np.round(np.clip(payment_history_score, 0, 100))\n",
        "    return pd.DataFrame({\n",
        "        \"age\": age,\n",
        "        \"income\": income,\n",
        "        \"monthly_expenses\": monthly_expenses,\n",
        "        \"debt\": debt,\n",
        "        \"num_open_loans\": num_open_loans,\n",
        "        \"credit_history_years\": credit_history_years,\n",
        "        \"employment_status\": employment_status,\n",
        "        \"home_owner\": home_owner,\n",
        "        \"prev_defaults\": prev_defaults,\n",
        "        \"payment_history_score\": payment_history_score\n",
        "    })\n",
        "df = generate_synthetic_credit(10)\n",
        "print(df.head())\n"
      ],
      "metadata": {
        "colab": {
          "base_uri": "https://localhost:8080/"
        },
        "id": "oyKF5cxsHX-1",
        "outputId": "70fe4e1a-0608-4ec4-a995-3e5a00019256"
      },
      "execution_count": 72,
      "outputs": [
        {
          "output_type": "stream",
          "name": "stdout",
          "text": [
            "   age   income  monthly_expenses    debt  num_open_loans  \\\n",
            "0   56  76584.0             31087     0.0               1   \n",
            "1   69  60349.0             10244  9006.0               1   \n",
            "2   46  35611.0              8762  1195.0               6   \n",
            "3   32  55851.0             15815  3666.0               0   \n",
            "4   60  35732.0             11721  1186.0               0   \n",
            "\n",
            "   credit_history_years employment_status home_owner  prev_defaults  \\\n",
            "0                    10          employed   mortgage              0   \n",
            "1                     0          employed       rent              0   \n",
            "2                    26          employed   mortgage              0   \n",
            "3                     9     self-employed      owned              0   \n",
            "4                     1          employed   mortgage              0   \n",
            "\n",
            "   payment_history_score  \n",
            "0                   87.0  \n",
            "1                   98.0  \n",
            "2                   85.0  \n",
            "3                   86.0  \n",
            "4                   92.0  \n"
          ]
        }
      ]
    },
    {
      "cell_type": "code",
      "source": [
        "import numpy as np\n",
        "import pandas as pd\n",
        "n = 100\n",
        "age = np.random.randint(21, 65, size=n)\n",
        "income = np.random.randint(20000, 100000, size=n)\n",
        "monthly_expenses = np.random.randint(5000, 50000, size=n)\n",
        "debt = np.random.randint(0, 50000, size=n)\n",
        "num_open_loans = np.random.randint(0, 10, size=n)\n",
        "credit_history_years = np.random.randint(1, 20, size=n)\n",
        "employment_status = np.random.choice([\"employed\", \"unemployed\", \"self-employed\"], size=n)\n",
        "home_owner = np.random.choice([\"yes\", \"no\"], size=n)\n",
        "prev_defaults = np.random.randint(0, 5, size=n)\n",
        "payment_history_score = np.random.randint(300, 850, size=n)\n",
        "df = pd.DataFrame({\n",
        "    \"age\": age,\n",
        "    \"income\": income,\n",
        "    \"monthly_expenses\": monthly_expenses,\n",
        "    \"debt\": debt,\n",
        "    \"num_open_loans\": num_open_loans,\n",
        "    \"credit_history_years\": credit_history_years,\n",
        "    \"employment_status\": employment_status,\n",
        "    \"home_owner\": home_owner,\n",
        "    \"prev_defaults\": prev_defaults,\n",
        "    \"payment_history_score\": payment_history_score\n",
        "})\n",
        "print(df.head())"
      ],
      "metadata": {
        "colab": {
          "base_uri": "https://localhost:8080/"
        },
        "id": "YhA_tEi18msC",
        "outputId": "9db3f96c-11d8-417a-96c2-5164ae4fc5cc"
      },
      "execution_count": 73,
      "outputs": [
        {
          "output_type": "stream",
          "name": "stdout",
          "text": [
            "   age  income  monthly_expenses   debt  num_open_loans  credit_history_years  \\\n",
            "0   59   32666             25666  17453               2                     4   \n",
            "1   49   58660             49357  36212               0                    10   \n",
            "2   35   23561             20708  43525               7                     5   \n",
            "3   63   46854             31370  47202               2                     9   \n",
            "4   28   84505              7811  32635               9                     3   \n",
            "\n",
            "  employment_status home_owner  prev_defaults  payment_history_score  \n",
            "0          employed         no              2                    649  \n",
            "1          employed        yes              0                    745  \n",
            "2          employed        yes              2                    649  \n",
            "3     self-employed        yes              3                    436  \n",
            "4          employed         no              3                    542  \n"
          ]
        }
      ]
    },
    {
      "cell_type": "code",
      "source": [
        "logits = (\n",
        "    -3.5\n",
        "    + (df[\"debt\"] / 10000) * 0.6\n",
        "    - (df[\"income\"] / 100000) * 2.0\n",
        "    - (df[\"payment_history_score\"] / 100) * 2.5\n",
        "    + df[\"prev_defaults\"] * 2.0\n",
        "    - (df[\"credit_history_years\"] / 10) * 0.4\n",
        "    + (df[\"num_open_loans\"] * 0.15)\n",
        "    + np.where(df[\"employment_status\"] == \"unemployed\", 0.8, 0.0)\n",
        "    + np.where(df[\"home_owner\"] == \"rent\", 0.3, 0.0)\n",
        "    + np.random.normal(0, 0.5, len(df))\n",
        ")\n",
        "probs = 1 / (1 + np.exp(-logits))"
      ],
      "metadata": {
        "id": "oVO2xjcY9RtH"
      },
      "execution_count": 74,
      "outputs": []
    },
    {
      "cell_type": "code",
      "source": [
        "def generate_synthetic_credit(n_samples=3000):\n",
        "    rng = np.random.default_rng(42)\n",
        "    age = rng.integers(21, 70, size=n_samples)\n",
        "    income = rng.normal(50000, 15000, size=n_samples).clip(10000, 150000)\n",
        "    monthly_expenses = rng.normal(2000, 800, size=n_samples).clip(500, 8000)\n",
        "    debt = rng.normal(20000, 10000, size=n_samples).clip(0, 100000)\n",
        "    num_open_loans = rng.integers(0, 10, size=n_samples)\n",
        "    credit_history_years = rng.integers(0, 30, size=n_samples)\n",
        "    employment_status = rng.choice([\"employed\", \"unemployed\", \"self-employed\"], size=n_samples, p=[0.7, 0.1, 0.2])\n",
        "    home_owner = rng.choice([\"own\", \"rent\", \"mortgage\"], size=n_samples, p=[0.5, 0.3, 0.2])\n",
        "    prev_defaults = rng.integers(0, 5, size=n_samples)\n",
        "    payment_history_score = rng.normal(70, 20, size=n_samples).clip(0, 100)\n",
        "    df = pd.DataFrame({\n",
        "        \"age\": age,\n",
        "        \"income\": income,\n",
        "        \"monthly_expenses\": monthly_expenses,\n",
        "        \"debt\": debt,\n",
        "        \"num_open_loans\": num_open_loans,\n",
        "        \"credit_history_years\": credit_history_years,\n",
        "        \"employment_status\": employment_status,\n",
        "        \"home_owner\": home_owner,\n",
        "        \"prev_defaults\": prev_defaults,\n",
        "        \"payment_history_score\": payment_history_score\n",
        "    })\n",
        "    logits = (\n",
        "        -3.5\n",
        "        + (df[\"debt\"] / 10000) * 0.6\n",
        "        - (df[\"income\"] / 100000) * 2.0\n",
        "        - (df[\"payment_history_score\"] / 100) * 2.5\n",
        "        + df[\"prev_defaults\"] * 2.0\n",
        "        - (df[\"credit_history_years\"] / 10) * 0.4\n",
        "        + (df[\"num_open_loans\"] * 0.15)\n",
        "        + np.where(df[\"employment_status\"] == \"unemployed\", 0.8, 0.0)\n",
        "        + np.where(df[\"home_owner\"] == \"rent\", 0.3, 0.0)\n",
        "        + rng.normal(0, 0.5, n_samples)\n",
        "    )\n",
        "    probs = 1 / (1 + np.exp(-logits))\n",
        "    df[\"default\"] = (rng.random(n_samples) < probs).astype(int)\n",
        "    return df\n",
        "df = generate_synthetic_credit(n_samples=3000)\n",
        "print(\"Sample rows:\")\n",
        "print(df.head())\n",
        "print(\"\\nClass balance:\")\n",
        "print(df[\"default\"].value_counts(normalize=True).round(3))"
      ],
      "metadata": {
        "colab": {
          "base_uri": "https://localhost:8080/"
        },
        "id": "MRkaXllc_Qz2",
        "outputId": "2a25914f-7d0e-40cb-a07d-86381578e51c"
      },
      "execution_count": 75,
      "outputs": [
        {
          "output_type": "stream",
          "name": "stdout",
          "text": [
            "Sample rows:\n",
            "   age        income  monthly_expenses          debt  num_open_loans  \\\n",
            "0   25  64444.408599       2305.352428  23509.129698               5   \n",
            "1   58  39130.834227       1957.300124  18457.531726               6   \n",
            "2   53  37193.611661       2869.060733  30492.683489               4   \n",
            "3   42  56895.589325       1506.416397  12008.561670               6   \n",
            "4   42  64828.298637       2788.939238  21201.609334               1   \n",
            "\n",
            "   credit_history_years employment_status home_owner  prev_defaults  \\\n",
            "0                    14     self-employed       rent              4   \n",
            "1                     9          employed       rent              1   \n",
            "2                    11          employed        own              2   \n",
            "3                     4          employed        own              4   \n",
            "4                    21     self-employed        own              0   \n",
            "\n",
            "   payment_history_score  default  \n",
            "0              35.264973        1  \n",
            "1              61.909036        0  \n",
            "2              58.545248        1  \n",
            "3              88.871587        1  \n",
            "4              68.814799        0  \n",
            "\n",
            "Class balance:\n",
            "default\n",
            "0    0.557\n",
            "1    0.443\n",
            "Name: proportion, dtype: float64\n"
          ]
        }
      ]
    },
    {
      "cell_type": "code",
      "source": [
        "preprocessor = ColumnTransformer(transformers=[\n",
        "    (\"num\", StandardScaler(), numeric_cols),\n",
        "    (\"cat\", OneHotEncoder(handle_unknown=\"ignore\", sparse_output=False), cat_cols)\n",
        "], remainder=\"passthrough\")\n"
      ],
      "metadata": {
        "id": "o4Tf7SVj_43e"
      },
      "execution_count": 76,
      "outputs": []
    },
    {
      "cell_type": "code",
      "source": [
        "models = {\n",
        "    \"LogisticRegression\": LogisticRegression(max_iter=1000, class_weight=\"balanced\", random_state=RANDOM_STATE),\n",
        "    \"RandomForest\": RandomForestClassifier(n_estimators=300, random_state=RANDOM_STATE, class_weight=\"balanced_subsample\"),\n",
        "}\n",
        "if has_xgb:\n",
        "    models[\"XGBoost\"] = XGBClassifier(n_estimators=300, use_label_encoder=False, eval_metric=\"logloss\", random_state=RANDOM_STATE)"
      ],
      "metadata": {
        "id": "8VjG8bAg_-PH"
      },
      "execution_count": 77,
      "outputs": []
    },
    {
      "cell_type": "code",
      "source": [
        "def evaluate_model(y_true, y_pred, y_proba):\n",
        "    return {\n",
        "        \"accuracy\": accuracy_score(y_true, y_pred),\n",
        "        \"precision\": precision_score(y_true, y_pred, zero_division=0),\n",
        "        \"recall\": recall_score(y_true, y_pred, zero_division=0),\n",
        "        \"f1\": f1_score(y_true, y_pred, zero_division=0),\n",
        "        \"roc_auc\": roc_auc_score(y_true, y_proba) if y_proba is not None else np.nan\n",
        "    }\n",
        "def plot_curves(y_true, y_proba, title=\"\"):\n",
        "    if y_proba is None:\n",
        "        print(\"No probability scores for curves.\")\n",
        "        return\n",
        "    fpr, tpr, _ = roc_curve(y_true, y_proba)\n",
        "    plt.figure(figsize=(6,4))\n",
        "    plt.plot(fpr, tpr, label=f\"AUC = {roc_auc_score(y_true,y_proba):.3f}\")\n",
        "    plt.plot([0,1],[0,1],\"--\", color=\"gray\")\n",
        "    plt.xlabel(\"FPR\")\n",
        "    plt.ylabel(\"TPR\")\n",
        "    plt.title(\"ROC Curve \" + title)\n",
        "    plt.legend()\n",
        "    plt.grid(True)\n",
        "    plt.show()\n",
        "    p, r, _ = precision_recall_curve(y_true, y_proba)\n",
        "    plt.figure(figsize=(6,4))\n",
        "    plt.plot(r, p)\n",
        "    plt.xlabel(\"Recall\")\n",
        "    plt.ylabel(\"Precision\")\n",
        "    plt.title(\"Precision-Recall Curve \" + title)\n",
        "    plt.grid(True)\n",
        "    plt.show()\n",
        "def run_models_pipeline(X, y, numeric_cols, cat_cols, models_dict, dataset_name=\"Credit\"):\n",
        "    X_train, X_test, y_train, y_test = train_test_split(X, y, test_size=0.2, stratify=y, random_state=RANDOM_STATE)\n",
        "    results = []\n",
        "    best_auc = -1\n",
        "    best_pipeline = None\n",
        "    for name, clf in models_dict.items():\n",
        "        pipe = Pipeline([(\"pre\", preprocessor), (\"clf\", clf)])\n",
        "        cv = StratifiedKFold(n_splits=5, shuffle=True, random_state=RANDOM_STATE)\n",
        "        try:\n",
        "            cv_auc = cross_val_score(pipe, X, y, cv=cv, scoring=\"roc_auc\", n_jobs=-1).mean()\n",
        "        except Exception:\n",
        "            cv_auc = np.nan\n",
        "        pipe.fit(X_train, y_train)\n",
        "        y_pred = pipe.predict(X_test)\n",
        "        y_proba = pipe.predict_proba(X_test)[:,1] if hasattr(pipe.named_steps[\"clf\"], \"predict_proba\") else None\n",
        "        metrics = evaluate_model(y_test, y_pred, y_proba)\n",
        "        metrics[\"cv_auc\"] = cv_auc\n",
        "        metrics[\"model\"] = name\n",
        "        results.append(metrics)\n",
        "        print(f\"\\n=== {dataset_name} | {name} ===\")\n",
        "        print(classification_report(y_test, y_pred, digits=4))\n",
        "        ConfusionMatrixDisplay(confusion_matrix(confusion_matrix(y_test, y_pred))).plot()\n",
        "        plt.title(f\"Confusion Matrix ({dataset_name} - {name})\")\n",
        "        plt.show()\n",
        "        plot_curves(y_test, y_proba, title=f\"{dataset_name} - {name}\")\n",
        "        if not np.isnan(metrics[\"roc_auc\"]) and metrics[\"roc_auc\"] > best_auc:\n",
        "            best_auc = metrics[\"roc_auc\"]\n",
        "            best_pipeline = pipe\n",
        "    results_df = pd.DataFrame(results).sort_values(\"roc_auc\", ascending=False)\n",
        "    return results_df, best_pipeline, (X_train, X_test, y_train, y_test)"
      ],
      "metadata": {
        "id": "nFglOvzlAKXo"
      },
      "execution_count": 78,
      "outputs": []
    },
    {
      "cell_type": "code",
      "source": [
        "from sklearn.model_selection import train_test_split\n",
        "X_train, X_test, y_train, y_test = train_test_split(\n",
        "    X, y, test_size=0.2, random_state=42, stratify=y\n",
        ")\n",
        "pipe.fit(X_train, y_train)\n",
        "y_pred = pipe.predict(X_test)"
      ],
      "metadata": {
        "id": "xVvkNLhQCJpr"
      },
      "execution_count": 79,
      "outputs": []
    },
    {
      "cell_type": "code",
      "source": [
        "from sklearn.model_selection import train_test_split\n",
        "from sklearn.metrics import accuracy_score\n",
        "from sklearn.pipeline import Pipeline\n",
        "def run_models_pipeline(X, y, numeric_cols, cat_cols, models, dataset_name=\"Dataset\"):\n",
        "    X_train, X_test, y_train, y_test = train_test_split(\n",
        "        X, y, test_size=0.2, random_state=42, stratify=y\n",
        "    )\n",
        "    results = {}\n",
        "    best_score = -1\n",
        "    best_pipe = None\n",
        "    for name, model in models.items():\n",
        "        pipe = Pipeline(steps=[\n",
        "            (\"preprocessor\", preprocessor),\n",
        "            (\"clf\", model)\n",
        "        ])\n",
        "        pipe.fit(X_train, y_train)\n",
        "        y_pred = pipe.predict(X_test)\n",
        "        acc = accuracy_score(y_test, y_pred)\n",
        "        results[name] = acc\n",
        "        if acc > best_score:\n",
        "            best_score = acc\n",
        "            best_pipe = pipe\n",
        "    return results, best_pipe, (X_train, X_test, y_train, y_test)"
      ],
      "metadata": {
        "id": "9dSXcUz1DAZU"
      },
      "execution_count": 80,
      "outputs": []
    },
    {
      "cell_type": "code",
      "source": [
        "X = df[feature_cols]\n",
        "y = df[\"default\"]\n",
        "results, best_pipe, splits = run_models_pipeline(\n",
        "    X, y, numeric_cols, cat_cols, models, dataset_name=\"Credit Scoring (Synthetic)\"\n",
        ")\n",
        "print(\"\\nSummary results:\")\n",
        "print(results)"
      ],
      "metadata": {
        "colab": {
          "base_uri": "https://localhost:8080/"
        },
        "id": "31GmLGpqDCDl",
        "outputId": "d31a6b9b-baa7-46df-92f0-0063cd2e4735"
      },
      "execution_count": 81,
      "outputs": [
        {
          "output_type": "stream",
          "name": "stdout",
          "text": [
            "\n",
            "Summary results:\n",
            "{'LogisticRegression': 0.8366666666666667, 'RandomForest': 0.83, 'XGBoost': 0.795}\n"
          ]
        }
      ]
    },
    {
      "cell_type": "code",
      "source": [
        "import pandas as pd\n",
        "import matplotlib.pyplot as plt\n",
        "import numpy as np\n",
        "def get_tree_importances(pipe, feature_names):\n",
        "    clf = pipe.named_steps[\"clf\"]\n",
        "    if hasattr(clf, \"feature_importances_\"):\n",
        "        importances = clf.feature_importances_\n",
        "        return pd.Series(importances, index=feature_names).sort_values(ascending=False)\n",
        "    if hasattr(clf, \"coef_\"):\n",
        "        coefs = np.abs(clf.coef_).ravel()\n",
        "        return pd.Series(coefs, index=feature_names).sort_values(ascending=False)\n",
        "    return pd.Series(dtype=float)\n",
        "\n",
        "if best_pipe is not None:\n",
        "    try:\n",
        "        feature_names = best_pipe.named_steps[\"preprocessor\"].get_feature_names_out()\n",
        "        clean_feature_names = [name.replace(\"num__\", \"\")\n",
        "                                   .replace(\"cat__\", \"\")\n",
        "                                   .replace(\"remainder__\", \"\")\n",
        "                               for name in feature_names]\n",
        "        importances = get_tree_importances(best_pipe, clean_feature_names)\n",
        "        print(\"\\nTop features (by importance / coefficient):\")\n",
        "        print(importances.head(15))\n",
        "        if not importances.empty:\n",
        "            plt.figure(figsize=(8,4))\n",
        "            importances.head(10).plot(kind=\"barh\")\n",
        "            plt.gca().invert_yaxis()\n",
        "            plt.title(\"Top Feature Importances / Coefficients\")\n",
        "            plt.show()\n",
        "    except Exception as e:\n",
        "        print(\"Could not compute importances:\", e)\n"
      ],
      "metadata": {
        "colab": {
          "base_uri": "https://localhost:8080/",
          "height": 695
        },
        "id": "E4qjyODkMlcE",
        "outputId": "d4994ac6-18c2-4e5a-d91c-5eeb79c575a8"
      },
      "execution_count": 82,
      "outputs": [
        {
          "output_type": "stream",
          "name": "stdout",
          "text": [
            "\n",
            "Top features (by importance / coefficient):\n",
            "prev_defaults                      1.980116\n",
            "employment_status_unemployed       0.675413\n",
            "debt                               0.570842\n",
            "payment_history_score              0.565443\n",
            "num_open_loans                     0.444951\n",
            "credit_history_years               0.364660\n",
            "employment_status_self-employed    0.349936\n",
            "employment_status_employed         0.325947\n",
            "income                             0.309325\n",
            "home_owner_own                     0.123652\n",
            "home_owner_mortgage                0.116636\n",
            "age                                0.080640\n",
            "monthly_expenses                   0.063398\n",
            "home_owner_rent                    0.006547\n",
            "dtype: float64\n"
          ]
        },
        {
          "output_type": "display_data",
          "data": {
            "text/plain": [
              "<Figure size 800x400 with 1 Axes>"
            ],
            "image/png": "[encoded data removed]"
          },
          "metadata": {}
        }
      ]
    },
    {
      "cell_type": "code",
      "source": [
        "from sklearn.model_selection import GridSearchCV, StratifiedKFold\n",
        "from sklearn.pipeline import Pipeline\n",
        "from sklearn.ensemble import RandomForestClassifier\n",
        "from sklearn.metrics import roc_auc_score\n",
        "import matplotlib.pyplot as plt\n",
        "rf_pipe = Pipeline([\n",
        "    (\"pre\", preprocessor),\n",
        "    (\"clf\", RandomForestClassifier(random_state=RANDOM_STATE, class_weight=\"balanced_subsample\"))\n",
        "])\n",
        "param_grid = {\n",
        "    \"clf__n_estimators\": [100, 200],\n",
        "    \"clf__max_depth\": [None, 8, 12],\n",
        "    \"clf__min_samples_split\": [2, 5]\n",
        "}\n",
        "cv = StratifiedKFold(n_splits=4, shuffle=True, random_state=RANDOM_STATE)\n",
        "grid = GridSearchCV(rf_pipe, param_grid, cv=cv, scoring=\"roc_auc\", n_jobs=-1)\n",
        "grid.fit(splits[0], splits[2])\n",
        "print(\"\\nGrid Search best params (RandomForest):\", grid.best_params_)\n",
        "print(\"Grid Search best CV ROC AUC:\", grid.best_score_)\n",
        "best_pipe = grid.best_estimator_\n",
        "y_pred = best_pipe.predict(splits[1])\n",
        "if hasattr(best_pipe, \"predict_proba\"):\n",
        "    y_proba = best_pipe.predict_proba(splits[1])[:,1]\n",
        "    test_auc = roc_auc_score(splits[3], y_proba)\n",
        "    print(\"Test ROC AUC:\", test_auc)\n",
        "def get_tree_importances(pipe, feature_names):\n",
        "    clf = pipe.named_steps[\"clf\"]\n",
        "    if hasattr(clf, \"feature_importances_\"):\n",
        "        importances = clf.feature_importances_\n",
        "        return pd.Series(importances, index=feature_names).sort_values(ascending=False)\n",
        "    return pd.Series(dtype=float)\n",
        "feature_names = best_pipe.named_steps[\"pre\"].get_feature_names_out()\n",
        "clean_feature_names = [name.replace(\"num__\", \"\").replace(\"cat__\", \"\").replace(\"remainder__\", \"\") for name in feature_names]\n",
        "importances = get_tree_importances(best_pipe, clean_feature_names)\n",
        "print(\"\\nTop features (RandomForest after GridSearch):\")\n",
        "print(importances.head(15))\n",
        "if not importances.empty:\n",
        "    plt.figure(figsize=(8,4))\n",
        "    importances.head(10).plot(kind=\"barh\")\n",
        "    plt.gca().invert_yaxis()\n",
        "    plt.title(\"Top Feature Importances / RandomForest\")\n",
        "    plt.show()\n"
      ],
      "metadata": {
        "colab": {
          "base_uri": "https://localhost:8080/",
          "height": 766
        },
        "id": "rs5a2LbkNtx1",
        "outputId": "0ba51d8c-a21d-43df-a928-50e11cb292ab"
      },
      "execution_count": 83,
      "outputs": [
        {
          "output_type": "stream",
          "name": "stdout",
          "text": [
            "\n",
            "Grid Search best params (RandomForest): {'clf__max_depth': 8, 'clf__min_samples_split': 5, 'clf__n_estimators': 200}\n",
            "Grid Search best CV ROC AUC: 0.9289175408581334\n",
            "Test ROC AUC: 0.9134437891135023\n",
            "\n",
            "Top features (RandomForest after GridSearch):\n",
            "prev_defaults                      0.653320\n",
            "payment_history_score              0.063135\n",
            "debt                               0.061233\n",
            "income                             0.046715\n",
            "monthly_expenses                   0.040429\n",
            "credit_history_years               0.039078\n",
            "age                                0.035023\n",
            "num_open_loans                     0.031751\n",
            "employment_status_unemployed       0.006034\n",
            "employment_status_employed         0.005693\n",
            "home_owner_mortgage                0.004871\n",
            "home_owner_rent                    0.004587\n",
            "home_owner_own                     0.004515\n",
            "employment_status_self-employed    0.003616\n",
            "dtype: float64\n"
          ]
        },
        {
          "output_type": "display_data",
          "data": {
            "text/plain": [
              "<Figure size 800x400 with 1 Axes>"
            ],
            "image/png": "[encoded data removed]"
          },
          "metadata": {}
        }
      ]
    },
    {
      "cell_type": "code",
      "source": [
        "Path(\"exports\").mkdir(exist_ok=True)\n",
        "if best_pipe is not None:\n",
        "    joblib.dump(best_pipe, \"exports/credit_best_model.joblib\")\n",
        "    print(\"Saved best model to exports/credit_best_model.joblib\")"
      ],
      "metadata": {
        "colab": {
          "base_uri": "https://localhost:8080/"
        },
        "id": "nSi9ORltFAvM",
        "outputId": "18f1591b-f13d-4b59-8ec7-ec5cc5682d72"
      },
      "execution_count": 84,
      "outputs": [
        {
          "output_type": "stream",
          "name": "stdout",
          "text": [
            "Saved best model to exports/credit_best_model.joblib\n"
          ]
        }
      ]
    }
  ]
}